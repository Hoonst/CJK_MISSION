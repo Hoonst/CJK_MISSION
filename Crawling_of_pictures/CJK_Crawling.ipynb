{
 "cells": [
  {
   "cell_type": "markdown",
   "metadata": {},
   "source": [
    "\n",
    "\n",
    "# Crawling\n",
    "\n",
    "> 한국: http://korea.assembly.go.kr/\n",
    "> 일본: http://www.sangiin.go.jp/\n",
    "> 중국: http://www.npc.gov.cn/"
   ]
  },
  {
   "cell_type": "code",
   "execution_count": 3,
   "metadata": {
    "ExecuteTime": {
     "end_time": "2019-02-22T08:33:55.633788Z",
     "start_time": "2019-02-22T08:33:55.620792Z"
    },
    "scrolled": true
   },
   "outputs": [
    {
     "ename": "SyntaxError",
     "evalue": "invalid syntax (__init__.py, line 175)",
     "output_type": "error",
     "traceback": [
      "Traceback \u001b[1;36m(most recent call last)\u001b[0m:\n",
      "  File \u001b[0;32m\"C:\\Users\\yoonh\\Anaconda3\\envs\\cjk\\lib\\site-packages\\IPython\\core\\interactiveshell.py\"\u001b[0m, line \u001b[0;32m3291\u001b[0m, in \u001b[0;35mrun_code\u001b[0m\n    exec(code_obj, self.user_global_ns, self.user_ns)\n",
      "\u001b[1;36m  File \u001b[1;32m\"<ipython-input-3-52bf3300545b>\"\u001b[1;36m, line \u001b[1;32m4\u001b[1;36m, in \u001b[1;35m<module>\u001b[1;36m\u001b[0m\n\u001b[1;33m    from bs4 import BeautifulSoup\u001b[0m\n",
      "\u001b[1;36m  File \u001b[1;32m\"C:\\Users\\yoonh\\Anaconda3\\envs\\cjk\\lib\\site-packages\\bs4\\__init__.py\"\u001b[1;36m, line \u001b[1;32m175\u001b[0m\n\u001b[1;33m    except Exception, e:\u001b[0m\n\u001b[1;37m                    ^\u001b[0m\n\u001b[1;31mSyntaxError\u001b[0m\u001b[1;31m:\u001b[0m invalid syntax\n"
     ]
    }
   ],
   "source": [
    "#필요한 modules\n",
    "import time\n",
    "from selenium import webdriver\n",
    "from bs4 import BeautifulSoup\n",
    "import requests\n",
    "import os\n",
    "from datetime import datetime\n",
    "import pandas as pd\n",
    "import selenium.webdriver as webdriver\n",
    "import selenium.webdriver.support.ui as ui\n",
    "\n",
    "from time import sleep\n",
    "from multiprocessing import Process\n",
    "from multiprocessing import Pool\n",
    "import re\n",
    "import urllib.request\n",
    "#디렉토리 설정"
   ]
  },
  {
   "cell_type": "code",
   "execution_count": 6,
   "metadata": {
    "ExecuteTime": {
     "end_time": "2019-02-22T07:23:29.139452Z",
     "start_time": "2019-02-22T07:23:29.122495Z"
    }
   },
   "outputs": [
    {
     "ename": "NameError",
     "evalue": "name 'webdriver' is not defined",
     "output_type": "error",
     "traceback": [
      "\u001b[1;31m---------------------------------------------------------------------------\u001b[0m",
      "\u001b[1;31mNameError\u001b[0m                                 Traceback (most recent call last)",
      "\u001b[1;32m<ipython-input-6-2d30b001f430>\u001b[0m in \u001b[0;36m<module>\u001b[1;34m\u001b[0m\n\u001b[1;32m----> 1\u001b[1;33m \u001b[0mdriver\u001b[0m \u001b[1;33m=\u001b[0m \u001b[0mwebdriver\u001b[0m\u001b[1;33m.\u001b[0m\u001b[0mChrome\u001b[0m\u001b[1;33m(\u001b[0m\u001b[1;34m'chromedriver'\u001b[0m\u001b[1;33m)\u001b[0m\u001b[1;33m\u001b[0m\u001b[1;33m\u001b[0m\u001b[0m\n\u001b[0m",
      "\u001b[1;31mNameError\u001b[0m: name 'webdriver' is not defined"
     ]
    }
   ],
   "source": [
    "driver = webdriver.Chrome('chromedriver')"
   ]
  },
  {
   "cell_type": "markdown",
   "metadata": {},
   "source": [
    "# Korean"
   ]
  },
  {
   "cell_type": "code",
   "execution_count": null,
   "metadata": {},
   "outputs": [],
   "source": [
    "driver.get(\"http://www.assembly.go.kr/assm/memact/congressman/memCond/memCond.do\")"
   ]
  },
  {
   "cell_type": "markdown",
   "metadata": {},
   "source": [
    "# 개별 행동 지침"
   ]
  },
  {
   "cell_type": "code",
   "execution_count": null,
   "metadata": {},
   "outputs": [],
   "source": [
    "#다음 클릭가능 --> 하지만 이 '다음' 버튼은 10 페이지를 한번에 넘기므로 index 번호로 하나씩 눌러줘야 한다.\n",
    "driver.find_element_by_css_selector(\".next\").click()"
   ]
  },
  {
   "cell_type": "code",
   "execution_count": null,
   "metadata": {},
   "outputs": [],
   "source": [
    "# Source 가져오고 HTML.Parsing\n",
    "html = driver.page_source\n",
    "soup = BeautifulSoup(html, 'html.parser')"
   ]
  },
  {
   "cell_type": "code",
   "execution_count": null,
   "metadata": {},
   "outputs": [],
   "source": [
    "picture = soup.select('dd.img > a > img')\n",
    "\n",
    "total_pic = []\n",
    "name = []\n",
    "for i in picture:\n",
    "    name.append(i['alt'][0:3])\n",
    "    total_pic.append(i['src'])"
   ]
  },
  {
   "cell_type": "code",
   "execution_count": null,
   "metadata": {},
   "outputs": [],
   "source": [
    "name"
   ]
  },
  {
   "cell_type": "code",
   "execution_count": null,
   "metadata": {},
   "outputs": [],
   "source": [
    "picture"
   ]
  },
  {
   "cell_type": "code",
   "execution_count": null,
   "metadata": {},
   "outputs": [],
   "source": [
    "total_pic"
   ]
  },
  {
   "cell_type": "markdown",
   "metadata": {},
   "source": [
    "# About get_picture()"
   ]
  },
  {
   "cell_type": "markdown",
   "metadata": {},
   "source": [
    ">한, 중, 일 국회의원 사진을 가져오기 위하여 각 나라의 국회 사이트에 접속하여 목록을 보지만 이 사이트 들의 HTML은 각기 다르므로,\n",
    "\n",
    ">전체 골자는 비슷하지만 약간의 수정을 해줘야 해서 하나의 함수를 사용하지 못한다.\n",
    "\n",
    ">따라서 아래의 get_picture()는 단순히 어떤 알고리즘 구조로 크롤링을 실시할지에 대한 서술이다."
   ]
  },
  {
   "cell_type": "code",
   "execution_count": null,
   "metadata": {},
   "outputs": [],
   "source": [
    "def get_picture():\n",
    "    html = driver.page_source\n",
    "    soup = BeautifulSoup(html, 'html.parser')\n",
    "    \n",
    "    picture = soup.select('dd.img > a > img')\n",
    "\n",
    "    total_pic = []\n",
    "    name = []\n",
    "    \n",
    "    for i in picture:\n",
    "        name.append(i['alt'][0:3])\n",
    "        total_pic.append(i['src'])\n",
    "    \n",
    "    url = 'www.assembly.go.kr'\n",
    "\n",
    "    for i, j in zip(total_pic, name):\n",
    "        to = 'http://' + url + str(i)\n",
    "        picture_name = name + '.jpg'\n",
    "        urllib.request.urlretrieve(to, picture_name)\n",
    "        print(num)\n",
    "        num += 1\n",
    "        \n",
    "#os.chdir(\"Korean\")"
   ]
  },
  {
   "cell_type": "code",
   "execution_count": null,
   "metadata": {
    "scrolled": true
   },
   "outputs": [],
   "source": [
    "page = 1\n",
    "while True: \n",
    "    # 소스 가져오기\n",
    "    html = driver.page_source\n",
    "    soup = BeautifulSoup(html, 'html.parser')\n",
    "    \n",
    "    #사진 HTML Target\n",
    "    picture = soup.select('dd.img > a > img')\n",
    "    \n",
    "    #사진 위치와 이름을 가져온다.\n",
    "    total_pic = []\n",
    "    name = []\n",
    "    for i in picture:\n",
    "        name.append(i['alt'][0:3])\n",
    "        total_pic.append(i['src'])\n",
    "    \n",
    "    url = 'www.assembly.go.kr'\n",
    "    \n",
    "    #사진을 가져오기 위하여 'http://www.assembly.go.kr + 사진 주소'의 형태로 찾고 저장한다.\n",
    "    for i,j in zip(total_pic, name):\n",
    "        to = 'http://' + url + str(i)\n",
    "        picture_name = str(j) + '.jpg'\n",
    "        urllib.request.urlretrieve(to, picture_name)\n",
    "        print(j)\n",
    "    \n",
    "    #Link_text는 Page를 말한다.\n",
    "    driver.find_element_by_link_text(str(page)).click()\n",
    "    \n",
    "    #If too fast, error pops up\n",
    "    time.sleep(3)\n",
    "    page += 1\n",
    "    \n",
    "    \n",
    "    #When reached 10\n",
    "    if page % 10 == 0:\n",
    "        get_picture()\n",
    "        \n",
    "        driver.find_element_by_css_selector(\".next\").click()\n",
    "        page += 1\n",
    "        print(page)"
   ]
  },
  {
   "cell_type": "markdown",
   "metadata": {},
   "source": [
    "# Chinese"
   ]
  },
  {
   "cell_type": "code",
   "execution_count": null,
   "metadata": {},
   "outputs": [],
   "source": [
    "driver.get(\"http://www.npc.gov.cn/delegate/delegateArea.action\")"
   ]
  },
  {
   "cell_type": "markdown",
   "metadata": {},
   "source": [
    "# 가장 힘들었다...\n",
    "> 지역에 들어가서 이름을 클릭하고 그 이미지의 주소를 가져와야 한다."
   ]
  },
  {
   "cell_type": "code",
   "execution_count": null,
   "metadata": {},
   "outputs": [],
   "source": [
    "html = driver.page_source\n",
    "soup = BeautifulSoup(html, 'html.parser')"
   ]
  },
  {
   "cell_type": "code",
   "execution_count": null,
   "metadata": {},
   "outputs": [],
   "source": [
    "# 지역별로 링크 가져오기\n",
    "area = soup.select(\"div.dbmd-city > ul >  li > a\")"
   ]
  },
  {
   "cell_type": "code",
   "execution_count": null,
   "metadata": {},
   "outputs": [],
   "source": [
    "area_link = []\n",
    "for i in area:\n",
    "    area_link.append(i['href'])"
   ]
  },
  {
   "cell_type": "code",
   "execution_count": null,
   "metadata": {},
   "outputs": [],
   "source": [
    "area_link"
   ]
  },
  {
   "cell_type": "code",
   "execution_count": null,
   "metadata": {},
   "outputs": [],
   "source": [
    "html = driver.page_source\n",
    "soup = BeautifulSoup(html, 'html.parser')"
   ]
  },
  {
   "cell_type": "code",
   "execution_count": null,
   "metadata": {},
   "outputs": [],
   "source": [
    "# 하나의 지역에 들어가서 각 국회의원들의 링크를 가져온다.\n",
    "people = soup.find('div', {'id' : 'abc-e'})"
   ]
  },
  {
   "cell_type": "code",
   "execution_count": null,
   "metadata": {},
   "outputs": [],
   "source": [
    "people.select(\"li > a\")"
   ]
  },
  {
   "cell_type": "code",
   "execution_count": null,
   "metadata": {
    "scrolled": true
   },
   "outputs": [],
   "source": [
    "area_link"
   ]
  },
  {
   "cell_type": "code",
   "execution_count": null,
   "metadata": {},
   "outputs": [],
   "source": [
    "individual"
   ]
  },
  {
   "cell_type": "code",
   "execution_count": null,
   "metadata": {},
   "outputs": [],
   "source": [
    "# individual 의 모든 의원들의 주소를 담을 것이다.\n",
    "individual = []\n",
    "for i in area_link:\n",
    "    driver.get(\"http://www.npc.gov.cn/delegate/\" + i)\n",
    "    html = driver.page_source\n",
    "    soup = BeautifulSoup(html, 'html.parser')\n",
    "    # 하나의 지역에 들어가서 각 국회의원들의 링크를 가져온다.\n",
    "    people = soup.find('div', {'id' : 'abc-e'})\n",
    "    print(people)\n",
    "    people_1 = people.select(\"li > a\")\n",
    "    \n",
    "    for k in people_1:\n",
    "        individual.append(k['href'])"
   ]
  },
  {
   "cell_type": "code",
   "execution_count": null,
   "metadata": {},
   "outputs": [],
   "source": [
    "len(individual)\n",
    "#len(set(individual))"
   ]
  },
  {
   "cell_type": "code",
   "execution_count": null,
   "metadata": {},
   "outputs": [],
   "source": [
    "individual"
   ]
  },
  {
   "cell_type": "code",
   "execution_count": null,
   "metadata": {},
   "outputs": [],
   "source": [
    "os.chdir(\"C:/Users/yoonh/OneDrive/바탕 화면/crawling/Chinese\")"
   ]
  },
  {
   "cell_type": "code",
   "execution_count": null,
   "metadata": {},
   "outputs": [],
   "source": [
    "soup.select('img.img')"
   ]
  },
  {
   "cell_type": "code",
   "execution_count": null,
   "metadata": {
    "scrolled": true
   },
   "outputs": [],
   "source": [
    "pic_links = []\n",
    "for i in individual[0:500]:\n",
    "    driver.get(i)\n",
    "    html = driver.page_source\n",
    "    soup = BeautifulSoup(html, 'html.parser')\n",
    "    \n",
    "    images = soup.select('img.img')\n",
    "    \n",
    "    pic_links.append(images[0]['src'])"
   ]
  },
  {
   "cell_type": "code",
   "execution_count": null,
   "metadata": {
    "scrolled": true
   },
   "outputs": [],
   "source": [
    "pic_links"
   ]
  },
  {
   "cell_type": "code",
   "execution_count": null,
   "metadata": {},
   "outputs": [],
   "source": [
    "def get_picture():\n",
    "\n",
    "    num = 1\n",
    "    url = 'http://www.npc.gov.cn'\n",
    "    \n",
    "    for i in pic_links[0:300]:\n",
    "        to = url + str(i)\n",
    "        picture_name = str(num) + '.jpg'\n",
    "        urllib.request.urlretrieve(to, picture_name)\n",
    "        print(num)\n",
    "        \n",
    "        num += 1"
   ]
  },
  {
   "cell_type": "code",
   "execution_count": null,
   "metadata": {},
   "outputs": [],
   "source": [
    "get_picture()"
   ]
  },
  {
   "cell_type": "markdown",
   "metadata": {},
   "source": [
    "# Japanese"
   ]
  },
  {
   "cell_type": "code",
   "execution_count": null,
   "metadata": {},
   "outputs": [],
   "source": [
    "driver.get(\"http://www.sangiin.go.jp/japanese/joho1/kousei/giin/197/giin.htm\")"
   ]
  },
  {
   "cell_type": "code",
   "execution_count": null,
   "metadata": {},
   "outputs": [],
   "source": [
    "html = driver.page_source\n",
    "soup = BeautifulSoup(html, 'html.parser')"
   ]
  },
  {
   "cell_type": "code",
   "execution_count": null,
   "metadata": {},
   "outputs": [],
   "source": [
    "images = soup.findAll('a', {'href':re.compile(\"\\.\\.\\/profile\")})"
   ]
  },
  {
   "cell_type": "code",
   "execution_count": null,
   "metadata": {},
   "outputs": [],
   "source": [
    "images['src']"
   ]
  },
  {
   "cell_type": "code",
   "execution_count": null,
   "metadata": {},
   "outputs": [],
   "source": [
    "links = []\n",
    "for i in images:\n",
    "    links.append(i['href'])"
   ]
  },
  {
   "cell_type": "code",
   "execution_count": null,
   "metadata": {},
   "outputs": [],
   "source": [
    "len(links)"
   ]
  },
  {
   "cell_type": "code",
   "execution_count": null,
   "metadata": {},
   "outputs": [],
   "source": [
    "html = driver.page_source\n",
    "soup = BeautifulSoup(html, 'html.parser')"
   ]
  },
  {
   "cell_type": "code",
   "execution_count": null,
   "metadata": {},
   "outputs": [],
   "source": [
    "images = soup.find('img', {'src':re.compile(\"\\.\\.\\/photo\")})"
   ]
  },
  {
   "cell_type": "code",
   "execution_count": null,
   "metadata": {},
   "outputs": [],
   "source": [
    "images"
   ]
  },
  {
   "cell_type": "code",
   "execution_count": null,
   "metadata": {},
   "outputs": [],
   "source": [
    "pic_links = []\n",
    "for i in links:\n",
    "    driver.get(\"http://www.sangiin.go.jp/japanese/joho1/kousei/giin\" + i[2:] )\n",
    "    \n",
    "    html = driver.page_source\n",
    "    soup = BeautifulSoup(html, 'html.parser')\n",
    "    \n",
    "    images = soup.find('img', {'src':re.compile(\"\\.\\.\\/photo\")})\n",
    "    \n",
    "    pic_links.append(images['src'])"
   ]
  },
  {
   "cell_type": "code",
   "execution_count": null,
   "metadata": {},
   "outputs": [],
   "source": [
    "pic_links"
   ]
  },
  {
   "cell_type": "code",
   "execution_count": null,
   "metadata": {},
   "outputs": [],
   "source": [
    "os.chdir(\"C:/Users/yoonh/OneDrive/바탕 화면/crawling/Japanese\")\n",
    "def get_picture():\n",
    "    num = 1\n",
    "    url = 'http://www.sangiin.go.jp/japanese/joho1/kousei/giin'\n",
    "    \n",
    "    for i in pic_links:\n",
    "        to = url + str(i[2:])\n",
    "        picture_name = str(num) + '.jpg'\n",
    "        urllib.request.urlretrieve(to, picture_name)\n",
    "        print(num)\n",
    "        \n",
    "        num += 1"
   ]
  },
  {
   "cell_type": "code",
   "execution_count": null,
   "metadata": {
    "scrolled": true
   },
   "outputs": [],
   "source": [
    "get_picture()"
   ]
  }
 ],
 "metadata": {
  "kernelspec": {
   "display_name": "Python [conda env:cjk]",
   "language": "python",
   "name": "conda-env-cjk-py"
  },
  "latex_envs": {
   "LaTeX_envs_menu_present": true,
   "autoclose": false,
   "autocomplete": true,
   "bibliofile": "biblio.bib",
   "cite_by": "apalike",
   "current_citInitial": 1,
   "eqLabelWithNumbers": true,
   "eqNumInitial": 1,
   "hotkeys": {
    "equation": "Ctrl-E",
    "itemize": "Ctrl-I"
   },
   "labels_anchors": false,
   "latex_user_defs": false,
   "report_style_numbering": false,
   "user_envs_cfg": false
  },
  "toc": {
   "base_numbering": 1,
   "nav_menu": {},
   "number_sections": true,
   "sideBar": true,
   "skip_h1_title": false,
   "title_cell": "Table of Contents",
   "title_sidebar": "Contents",
   "toc_cell": false,
   "toc_position": {},
   "toc_section_display": true,
   "toc_window_display": false
  },
  "varInspector": {
   "cols": {
    "lenName": 16,
    "lenType": 16,
    "lenVar": 40
   },
   "kernels_config": {
    "python": {
     "delete_cmd_postfix": "",
     "delete_cmd_prefix": "del ",
     "library": "var_list.py",
     "varRefreshCmd": "print(var_dic_list())"
    },
    "r": {
     "delete_cmd_postfix": ") ",
     "delete_cmd_prefix": "rm(",
     "library": "var_list.r",
     "varRefreshCmd": "cat(var_dic_list()) "
    }
   },
   "types_to_exclude": [
    "module",
    "function",
    "builtin_function_or_method",
    "instance",
    "_Feature"
   ],
   "window_display": false
  }
 },
 "nbformat": 4,
 "nbformat_minor": 2
}
